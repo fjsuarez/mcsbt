{
 "cells": [
  {
   "cell_type": "code",
   "execution_count": 2,
   "metadata": {
    "id": "MVneMaxeLf2P"
   },
   "outputs": [],
   "source": [
    "import pandas as pd\n",
    "import matplotlib.pyplot as plt\n",
    "import numpy as np\n",
    "import datetime\n",
    "import plotly.express as px\n",
    "from statsmodels.tsa.stattools import adfuller\n",
    "from statsmodels.graphics.tsaplots import plot_acf, plot_pacf\n",
    "from sklearn.model_selection import train_test_split\n",
    "from statsmodels.tsa.seasonal import seasonal_decompose\n",
    "from statsmodels.tsa.arima.model import ARIMA\n",
    "from statsmodels.tsa.statespace.sarimax import SARIMAX\n",
    "from sklearn.metrics import mean_absolute_error, mean_squared_error"
   ]
  },
  {
   "cell_type": "markdown",
   "metadata": {
    "id": "VuArCinos-Gz"
   },
   "source": []
  },
  {
   "cell_type": "code",
   "execution_count": 3,
   "metadata": {
    "id": "irA-Q0akMpgV"
   },
   "outputs": [],
   "source": [
    "price_df = pd.read_csv(\"price_data.csv\",\n",
    "                       parse_dates=[\"GMT Time\"],\n",
    "                       na_values=['No Data Available']\n",
    "                       )\n",
    "price_df.columns = [\"Time\", \"DA Price\", \"Intraday Price\"]\n",
    "# price_df.set_index(\"Time\", inplace=True)\n",
    "# price_df.rename_axis(\"Series\", axis=\"columns\", inplace=True)\n",
    "\n",
    "generation_df = pd.read_csv(\"generation_data.csv\",\n",
    "                            parse_dates=[\"GMT Time\"],\n",
    "                            na_values=[\"No Data Available\"])\n",
    "generation_df.columns = [\"Time\",\n",
    "                         \"Biomass\",\n",
    "                         \"Gas\",\n",
    "                         \"Hard Coal\",\n",
    "                         \"Oil\",\n",
    "                         \"Hydro Pumped Storage\",\n",
    "                         \"Hydro Run-of-River\",\n",
    "                         \"Nuclear\",\n",
    "                         \"Solar\",\n",
    "                         \"Wind Onshore\",\n",
    "                         \"Wind Offshore\"]\n",
    "# generation_df.set_index(\"Time\", inplace=True)\n",
    "# generation_df.rename_axis(\"Series\", axis=\"columns\", inplace=True)\n",
    "\n",
    "demand_load_df = pd.read_csv(\"demand_load_data.csv\",\n",
    "                             parse_dates=[\"GMT Time\"],\n",
    "                             na_values=[\"No Data Available\"])\n",
    "demand_load_df.columns = [\"Time\", \"Loss of Load Prob\", \"Actual Total Load\", \"Demand Outturn\"]\n",
    "# demand_load_df.set_index(\"Time\", inplace=True)\n",
    "# demand_load_df.rename_axis(\"Series\", axis=\"columns\", inplace=True)\n",
    "\n",
    "balancing_df = pd.read_csv(\"balancing_data.csv\",\n",
    "                           parse_dates=[\"GMT Time\"],\n",
    "                           na_values=['No Data Available']\n",
    "                           )\n",
    "balancing_df.columns = [\"Time\",\n",
    "                        \"System Price\",\n",
    "                        \"NIV Outturn\",\n",
    "                        \"BM Bid Acceptances\",\n",
    "                        \"BM Offer Acceptances\",\n",
    "                        \"BSAD Volume Turn Up\",\n",
    "                        \"BSAD Volume Turn Down\",\n",
    "                        \"BSAD Volume Total\",\n",
    "                        \"Intraday Volume\"]\n",
    "# balancing_df.set_index(\"Time\", inplace=True)\n",
    "# balancing_df.rename_axis(\"Series\", axis=\"columns\", inplace=True)"
   ]
  },
  {
   "cell_type": "markdown",
   "metadata": {
    "id": "RQzwktqiNRTa"
   },
   "source": [
    "### Price data"
   ]
  },
  {
   "cell_type": "markdown",
   "metadata": {
    "id": "qvrOWvNzw1BE"
   },
   "source": [
    "After taking a look at the data, we moved on to do exploratory analysis. The first thing we did was decide what to do with the missing values we found above. The first measure we took was to handle them with forward fill, making them valid while not overwriting the data (mainecita's notes, can be changed)"
   ]
  },
  {
   "cell_type": "code",
   "execution_count": null,
   "metadata": {
    "colab": {
     "base_uri": "https://localhost:8080/"
    },
    "id": "0InC8o5myODR",
    "outputId": "7835ef72-d54b-42d7-a790-5257651f80bb"
   },
   "outputs": [
    {
     "name": "stdout",
     "output_type": "stream",
     "text": [
      "Missing values:\n",
      " 64\n"
     ]
    },
    {
     "name": "stderr",
     "output_type": "stream",
     "text": [
      "<ipython-input-10-ac8f3273b644>:2: FutureWarning:\n",
      "\n",
      "Series.fillna with 'method' is deprecated and will raise in a future version. Use obj.ffill() or obj.bfill() instead.\n",
      "\n"
     ]
    }
   ],
   "source": [
    "print(\"Missing values:\\n\", price_df['DA Price'].isnull().sum())\n",
    "price_df['DA Price'] = price_df['DA Price'].fillna(method='ffill')  # Forward fill method for missing values\n",
    "\n"
   ]
  },
  {
   "cell_type": "markdown",
   "metadata": {
    "id": "EwomWeBUxo6c"
   },
   "source": [
    "The next thing we did was look for stationarity. For this we did an Augmented Dickey-Fuller (ADF) test.\n",
    "\n",
    "For this, we decided upon the following Hypothesis to test:\n",
    "\n",
    "Null Hypothesis (𝐻0): The time series is non-stationary.\n",
    "Alternative Hypothesis (𝐻1): The time series is stationary."
   ]
  },
  {
   "cell_type": "code",
   "execution_count": null,
   "metadata": {
    "colab": {
     "base_uri": "https://localhost:8080/"
    },
    "id": "6_zKl-P3w0Cg",
    "outputId": "a2861d5e-49f4-496b-8f53-2c0961ab71fd"
   },
   "outputs": [
    {
     "data": {
      "text/plain": [
       "(-8.107524272214649,\n",
       " 1.2511923718248523e-12,\n",
       " 71,\n",
       " 118248,\n",
       " {'1%': -3.430405302770123,\n",
       "  '5%': -2.861564442999535,\n",
       "  '10%': -2.5667830101460924},\n",
       " 1012468.3553004458)"
      ]
     },
     "execution_count": 11,
     "metadata": {},
     "output_type": "execute_result"
    }
   ],
   "source": [
    "adfuller(price_df['DA Price'])"
   ]
  },
  {
   "cell_type": "markdown",
   "metadata": {
    "id": "eAcEG9rtyszh"
   },
   "source": [
    "The results show that the ADF statistic is much smaller than all critical values, so we reject the null hypothesis. At the same time, they show a small p-value, meaning that we reject the null hypothesis. With these results we thus assume stationarity. This means we do not need to apply transformations to the data before modeling it."
   ]
  },
  {
   "cell_type": "code",
   "execution_count": null,
   "metadata": {
    "colab": {
     "base_uri": "https://localhost:8080/",
     "height": 887
    },
    "id": "X6fifzrkzldU",
    "outputId": "d2a3ece3-c4bf-4bd2-ce59-753bd90f2ef7"
   },
   "outputs": [
    {
     "data": {
      "image/png": "[encoded data removed]",
      "text/plain": [
       "<Figure size 640x480 with 1 Axes>"
      ]
     },
     "metadata": {},
     "output_type": "display_data"
    },
    {
     "data": {
      "image/png": "[encoded data removed]",
      "text/plain": [
       "<Figure size 640x480 with 1 Axes>"
      ]
     },
     "metadata": {},
     "output_type": "display_data"
    }
   ],
   "source": [
    "#ACF\n",
    "plot_acf(price_df['DA Price'], lags=48) #Lags are the cycles, set to 48 since the data is set to 48-intervals\n",
    "plt.title(\"Autocorrelation (ACF)\")\n",
    "plt.show()\n",
    "\n",
    "#PACF\n",
    "plot_pacf(price_df['DA Price'], lags=48)\n",
    "plt.title(\"Partial Autocorrelation (PACF)\")\n",
    "plt.show()"
   ]
  },
  {
   "cell_type": "markdown",
   "metadata": {
    "id": "cZj2Lsn14WS0"
   },
   "source": [
    "The ACF plot shows a slow decay over time, with significant correlations for many lags. This can indicate non-stationarity, as the autocorrelations do not drop off quickly. This can also suggest the presence of trends or seasonality in the data. Differencing can remove this persistence in correlations.\n",
    "\n",
    "The PACF plot shows a sharp drop-off after lag 1, with no significant spikes beyond that. This can tell us that a lag of 1 might be sufficient for the autoregressive (AR) part of the model.\n"
   ]
  },
  {
   "cell_type": "code",
   "execution_count": null,
   "metadata": {
    "colab": {
     "base_uri": "https://localhost:8080/"
    },
    "id": "qk5DNxVz3UL5",
    "outputId": "d3146bba-8250-4a25-9c47-03d595fa2c0a"
   },
   "outputs": [
    {
     "data": {
      "text/plain": [
       "94656.0"
      ]
     },
     "execution_count": 13,
     "metadata": {},
     "output_type": "execute_result"
    }
   ],
   "source": [
    "#Deciding the split of the training/Test datasets\n",
    "len(price_df['DA Price'])\n",
    "\n",
    "split_index = (len(price_df['DA Price']) * 0.8)\n",
    "\n",
    "split_index"
   ]
  },
  {
   "cell_type": "code",
   "execution_count": null,
   "metadata": {
    "id": "Ltjc0dwC3ZOj"
   },
   "outputs": [],
   "source": [
    "# Training data: 80% of the data\n",
    "train_data = price_df['DA Price'][:94656]\n",
    " #This is what Michelle told us to do in the call\n",
    "# I selected a smaller subset of data to see if it runs - Mainecita\n",
    "\n",
    "\n",
    "# Test data: Remaining 20% of the data\n",
    "test_data = price_df['DA Price'][94656:]"
   ]
  },
  {
   "cell_type": "code",
   "execution_count": null,
   "metadata": {
    "colab": {
     "base_uri": "https://localhost:8080/"
    },
    "id": "EBYiekaH7Mlz",
    "outputId": "256b483e-4bc7-497d-9584-879062d3cf52"
   },
   "outputs": [
    {
     "name": "stderr",
     "output_type": "stream",
     "text": [
      "/usr/local/lib/python3.10/dist-packages/statsmodels/tsa/statespace/sarimax.py:966: UserWarning:\n",
      "\n",
      "Non-stationary starting autoregressive parameters found. Using zeros as starting parameters.\n",
      "\n",
      "/usr/local/lib/python3.10/dist-packages/statsmodels/tsa/statespace/sarimax.py:978: UserWarning:\n",
      "\n",
      "Non-invertible starting MA parameters found. Using zeros as starting parameters.\n",
      "\n"
     ]
    }
   ],
   "source": [
    "# Fit ARIMA Model\n",
    "# Parameters determined from PACF and ACF (p=1, d=1, q=1)\n",
    "# I get a warning when running it, Even though the data passed the ADF test for stationarity,\n",
    "# small numerical issues or borderline stationarity can trigger this warning.\n",
    "p = 1\n",
    "d = 1\n",
    "q = 1\n",
    "arima_model = ARIMA(train_data, order=(p, d, q))\n",
    "arima_fit = arima_model.fit()"
   ]
  },
  {
   "cell_type": "code",
   "execution_count": null,
   "metadata": {
    "colab": {
     "base_uri": "https://localhost:8080/",
     "height": 1000
    },
    "id": "ges1fIyu7NW3",
    "outputId": "ce51a78b-41e0-42e3-f338-74810d520cb7"
   },
   "outputs": [
    {
     "data": {
      "text/html": [
       "<div>\n",
       "<style scoped>\n",
       "    .dataframe tbody tr th:only-of-type {\n",
       "        vertical-align: middle;\n",
       "    }\n",
       "\n",
       "    .dataframe tbody tr th {\n",
       "        vertical-align: top;\n",
       "    }\n",
       "\n",
       "    .dataframe thead th {\n",
       "        text-align: right;\n",
       "    }\n",
       "</style>\n",
       "<table border=\"1\" class=\"dataframe\">\n",
       "  <thead>\n",
       "    <tr style=\"text-align: right;\">\n",
       "      <th></th>\n",
       "      <th>predicted_mean</th>\n",
       "    </tr>\n",
       "  </thead>\n",
       "  <tbody>\n",
       "    <tr>\n",
       "      <th>94656</th>\n",
       "      <td>74.196051</td>\n",
       "    </tr>\n",
       "    <tr>\n",
       "      <th>94657</th>\n",
       "      <td>73.429563</td>\n",
       "    </tr>\n",
       "    <tr>\n",
       "      <th>94658</th>\n",
       "      <td>73.965582</td>\n",
       "    </tr>\n",
       "    <tr>\n",
       "      <th>94659</th>\n",
       "      <td>73.590734</td>\n",
       "    </tr>\n",
       "    <tr>\n",
       "      <th>94660</th>\n",
       "      <td>73.852872</td>\n",
       "    </tr>\n",
       "    <tr>\n",
       "      <th>94661</th>\n",
       "      <td>73.669554</td>\n",
       "    </tr>\n",
       "    <tr>\n",
       "      <th>94662</th>\n",
       "      <td>73.797751</td>\n",
       "    </tr>\n",
       "    <tr>\n",
       "      <th>94663</th>\n",
       "      <td>73.708101</td>\n",
       "    </tr>\n",
       "    <tr>\n",
       "      <th>94664</th>\n",
       "      <td>73.770795</td>\n",
       "    </tr>\n",
       "    <tr>\n",
       "      <th>94665</th>\n",
       "      <td>73.726952</td>\n",
       "    </tr>\n",
       "    <tr>\n",
       "      <th>94666</th>\n",
       "      <td>73.757612</td>\n",
       "    </tr>\n",
       "    <tr>\n",
       "      <th>94667</th>\n",
       "      <td>73.736171</td>\n",
       "    </tr>\n",
       "    <tr>\n",
       "      <th>94668</th>\n",
       "      <td>73.751165</td>\n",
       "    </tr>\n",
       "    <tr>\n",
       "      <th>94669</th>\n",
       "      <td>73.740679</td>\n",
       "    </tr>\n",
       "    <tr>\n",
       "      <th>94670</th>\n",
       "      <td>73.748012</td>\n",
       "    </tr>\n",
       "    <tr>\n",
       "      <th>94671</th>\n",
       "      <td>73.742884</td>\n",
       "    </tr>\n",
       "    <tr>\n",
       "      <th>94672</th>\n",
       "      <td>73.746470</td>\n",
       "    </tr>\n",
       "    <tr>\n",
       "      <th>94673</th>\n",
       "      <td>73.743962</td>\n",
       "    </tr>\n",
       "    <tr>\n",
       "      <th>94674</th>\n",
       "      <td>73.745716</td>\n",
       "    </tr>\n",
       "    <tr>\n",
       "      <th>94675</th>\n",
       "      <td>73.744490</td>\n",
       "    </tr>\n",
       "    <tr>\n",
       "      <th>94676</th>\n",
       "      <td>73.745347</td>\n",
       "    </tr>\n",
       "    <tr>\n",
       "      <th>94677</th>\n",
       "      <td>73.744748</td>\n",
       "    </tr>\n",
       "    <tr>\n",
       "      <th>94678</th>\n",
       "      <td>73.745167</td>\n",
       "    </tr>\n",
       "    <tr>\n",
       "      <th>94679</th>\n",
       "      <td>73.744874</td>\n",
       "    </tr>\n",
       "    <tr>\n",
       "      <th>94680</th>\n",
       "      <td>73.745079</td>\n",
       "    </tr>\n",
       "    <tr>\n",
       "      <th>94681</th>\n",
       "      <td>73.744935</td>\n",
       "    </tr>\n",
       "    <tr>\n",
       "      <th>94682</th>\n",
       "      <td>73.745036</td>\n",
       "    </tr>\n",
       "    <tr>\n",
       "      <th>94683</th>\n",
       "      <td>73.744966</td>\n",
       "    </tr>\n",
       "    <tr>\n",
       "      <th>94684</th>\n",
       "      <td>73.745015</td>\n",
       "    </tr>\n",
       "    <tr>\n",
       "      <th>94685</th>\n",
       "      <td>73.744980</td>\n",
       "    </tr>\n",
       "    <tr>\n",
       "      <th>94686</th>\n",
       "      <td>73.745004</td>\n",
       "    </tr>\n",
       "    <tr>\n",
       "      <th>94687</th>\n",
       "      <td>73.744988</td>\n",
       "    </tr>\n",
       "    <tr>\n",
       "      <th>94688</th>\n",
       "      <td>73.744999</td>\n",
       "    </tr>\n",
       "    <tr>\n",
       "      <th>94689</th>\n",
       "      <td>73.744991</td>\n",
       "    </tr>\n",
       "    <tr>\n",
       "      <th>94690</th>\n",
       "      <td>73.744997</td>\n",
       "    </tr>\n",
       "    <tr>\n",
       "      <th>94691</th>\n",
       "      <td>73.744993</td>\n",
       "    </tr>\n",
       "    <tr>\n",
       "      <th>94692</th>\n",
       "      <td>73.744996</td>\n",
       "    </tr>\n",
       "    <tr>\n",
       "      <th>94693</th>\n",
       "      <td>73.744994</td>\n",
       "    </tr>\n",
       "    <tr>\n",
       "      <th>94694</th>\n",
       "      <td>73.744995</td>\n",
       "    </tr>\n",
       "    <tr>\n",
       "      <th>94695</th>\n",
       "      <td>73.744994</td>\n",
       "    </tr>\n",
       "    <tr>\n",
       "      <th>94696</th>\n",
       "      <td>73.744995</td>\n",
       "    </tr>\n",
       "    <tr>\n",
       "      <th>94697</th>\n",
       "      <td>73.744994</td>\n",
       "    </tr>\n",
       "    <tr>\n",
       "      <th>94698</th>\n",
       "      <td>73.744995</td>\n",
       "    </tr>\n",
       "    <tr>\n",
       "      <th>94699</th>\n",
       "      <td>73.744994</td>\n",
       "    </tr>\n",
       "    <tr>\n",
       "      <th>94700</th>\n",
       "      <td>73.744995</td>\n",
       "    </tr>\n",
       "    <tr>\n",
       "      <th>94701</th>\n",
       "      <td>73.744994</td>\n",
       "    </tr>\n",
       "    <tr>\n",
       "      <th>94702</th>\n",
       "      <td>73.744995</td>\n",
       "    </tr>\n",
       "    <tr>\n",
       "      <th>94703</th>\n",
       "      <td>73.744994</td>\n",
       "    </tr>\n",
       "  </tbody>\n",
       "</table>\n",
       "</div><br><label><b>dtype:</b> float64</label>"
      ],
      "text/plain": [
       "94656    74.196051\n",
       "94657    73.429563\n",
       "94658    73.965582\n",
       "94659    73.590734\n",
       "94660    73.852872\n",
       "94661    73.669554\n",
       "94662    73.797751\n",
       "94663    73.708101\n",
       "94664    73.770795\n",
       "94665    73.726952\n",
       "94666    73.757612\n",
       "94667    73.736171\n",
       "94668    73.751165\n",
       "94669    73.740679\n",
       "94670    73.748012\n",
       "94671    73.742884\n",
       "94672    73.746470\n",
       "94673    73.743962\n",
       "94674    73.745716\n",
       "94675    73.744490\n",
       "94676    73.745347\n",
       "94677    73.744748\n",
       "94678    73.745167\n",
       "94679    73.744874\n",
       "94680    73.745079\n",
       "94681    73.744935\n",
       "94682    73.745036\n",
       "94683    73.744966\n",
       "94684    73.745015\n",
       "94685    73.744980\n",
       "94686    73.745004\n",
       "94687    73.744988\n",
       "94688    73.744999\n",
       "94689    73.744991\n",
       "94690    73.744997\n",
       "94691    73.744993\n",
       "94692    73.744996\n",
       "94693    73.744994\n",
       "94694    73.744995\n",
       "94695    73.744994\n",
       "94696    73.744995\n",
       "94697    73.744994\n",
       "94698    73.744995\n",
       "94699    73.744994\n",
       "94700    73.744995\n",
       "94701    73.744994\n",
       "94702    73.744995\n",
       "94703    73.744994\n",
       "Name: predicted_mean, dtype: float64"
      ]
     },
     "execution_count": 27,
     "metadata": {},
     "output_type": "execute_result"
    }
   ],
   "source": [
    "# Forecast using ARIMA\n",
    "arima_forecast = arima_fit.forecast(steps=48)  # Forecast 48 half-hour intervals\n",
    "arima_forecast"
   ]
  },
  {
   "cell_type": "code",
   "execution_count": null,
   "metadata": {
    "id": "XHjaT87afL44"
   },
   "outputs": [],
   "source": [
    "# Fit SARIMA Model\n",
    "# Seasonal parameters (P=1, D=0, Q=0, m=48) based on daily seasonality assumption\n",
    "P, D, Q, m = 1, 0, 0, 48\n",
    "sarima_model = SARIMAX(train_data, order=(p, d, q), seasonal_order=(P, D, Q, m))\n"
   ]
  },
  {
   "cell_type": "markdown",
   "metadata": {
    "id": "Btz5iqEiugGx"
   },
   "source": [
    "train_data = train_data[-10000:]"
   ]
  },
  {
   "cell_type": "code",
   "execution_count": null,
   "metadata": {
    "colab": {
     "base_uri": "https://localhost:8080/"
    },
    "id": "6hRXzUAWfiHi",
    "outputId": "d77e8559-c529-4e11-f81c-2cac0f43dea3"
   },
   "outputs": [
    {
     "name": "stderr",
     "output_type": "stream",
     "text": [
      "/usr/local/lib/python3.10/dist-packages/statsmodels/tsa/statespace/sarimax.py:966: UserWarning:\n",
      "\n",
      "Non-stationary starting autoregressive parameters found. Using zeros as starting parameters.\n",
      "\n",
      "/usr/local/lib/python3.10/dist-packages/statsmodels/tsa/statespace/sarimax.py:978: UserWarning:\n",
      "\n",
      "Non-invertible starting MA parameters found. Using zeros as starting parameters.\n",
      "\n"
     ]
    }
   ],
   "source": [
    "sarima_fit = sarima_model.fit(disp=False)"
   ]
  },
  {
   "cell_type": "code",
   "execution_count": null,
   "metadata": {
    "id": "tprZ3Z-Pfo2v"
   },
   "outputs": [],
   "source": [
    "# Forecast using SARIMA\n",
    "sarima_forecast = sarima_fit.forecast(steps=48)"
   ]
  },
  {
   "cell_type": "code",
   "execution_count": null,
   "metadata": {
    "id": "IaYI5dS_ftpJ"
   },
   "outputs": [],
   "source": [
    "# Evaluate Models\n",
    "def evaluate_forecast(actual, forecast, model_name):\n",
    "    mae = mean_absolute_error(actual, forecast)\n",
    "    mse = mean_squared_error(actual, forecast)\n",
    "    rmse = np.sqrt(mse)\n",
    "    print(f\"{model_name} Evaluation:\")\n",
    "    print(f\"Mean Absolute Error (MAE): {mae:.4f}\")\n",
    "    print(f\"Mean Squared Error (MSE): {mse:.4f}\")\n",
    "    print(f\"Root Mean Squared Error (RMSE): {rmse:.4f}\")\n",
    "    print(\"-\" * 30)"
   ]
  },
  {
   "cell_type": "code",
   "execution_count": null,
   "metadata": {
    "colab": {
     "base_uri": "https://localhost:8080/",
     "height": 549
    },
    "id": "YC67Dq_ekGx6",
    "outputId": "555b1849-2fe4-46df-cde3-10e199393aa3"
   },
   "outputs": [
    {
     "data": {
      "image/png": "[encoded data removed]",
      "text/plain": [
       "<Figure size 1200x600 with 1 Axes>"
      ]
     },
     "metadata": {},
     "output_type": "display_data"
    }
   ],
   "source": [
    "plt.figure(figsize=(12, 6))\n",
    "plt.plot(test_data_48.index, test_data_48.values, label=\"Actual\", marker='o')\n",
    "plt.plot(test_data_48.index, arima_forecast, label=\"ARIMA Forecast\", linestyle='--')\n",
    "plt.title(\"Actual vs ARIMA Forecast (October 1, 2024)\")\n",
    "plt.xlabel(\"Time\")\n",
    "plt.ylabel(\"Day Ahead Price\")\n",
    "plt.legend()\n",
    "plt.show()"
   ]
  },
  {
   "cell_type": "markdown",
   "metadata": {
    "id": "PvddOnaGhaHZ"
   },
   "source": [
    "((Here is where I got lost))"
   ]
  },
  {
   "cell_type": "code",
   "execution_count": null,
   "metadata": {
    "colab": {
     "base_uri": "https://localhost:8080/",
     "height": 365
    },
    "id": "-j2zhnkHf02o",
    "outputId": "c0561dc1-d417-49ba-df9f-9b97e1863ab4"
   },
   "outputs": [
    {
     "ename": "ValueError",
     "evalue": "Found input variables with inconsistent numbers of samples: [23664, 48]",
     "output_type": "error",
     "traceback": [
      "\u001b[0;31m---------------------------------------------------------------------------\u001b[0m",
      "\u001b[0;31mValueError\u001b[0m                                Traceback (most recent call last)",
      "\u001b[0;32m<ipython-input-24-0bcdd294d926>\u001b[0m in \u001b[0;36m<cell line: 2>\u001b[0;34m()\u001b[0m\n\u001b[1;32m      1\u001b[0m \u001b[0;31m# Evaluate ARIMA\u001b[0m\u001b[0;34m\u001b[0m\u001b[0;34m\u001b[0m\u001b[0m\n\u001b[0;32m----> 2\u001b[0;31m \u001b[0mevaluate_forecast\u001b[0m\u001b[0;34m(\u001b[0m\u001b[0mtest_data\u001b[0m\u001b[0;34m.\u001b[0m\u001b[0mvalues\u001b[0m\u001b[0;34m,\u001b[0m \u001b[0marima_forecast\u001b[0m\u001b[0;34m,\u001b[0m \u001b[0;34m\"ARIMA\"\u001b[0m\u001b[0;34m)\u001b[0m\u001b[0;34m\u001b[0m\u001b[0;34m\u001b[0m\u001b[0m\n\u001b[0m\u001b[1;32m      3\u001b[0m \u001b[0;34m\u001b[0m\u001b[0m\n\u001b[1;32m      4\u001b[0m \u001b[0;31m# Evaluate SARIMA\u001b[0m\u001b[0;34m\u001b[0m\u001b[0;34m\u001b[0m\u001b[0m\n\u001b[1;32m      5\u001b[0m \u001b[0mevaluate_forecast\u001b[0m\u001b[0;34m(\u001b[0m\u001b[0mtest_data\u001b[0m\u001b[0;34m.\u001b[0m\u001b[0mvalues\u001b[0m\u001b[0;34m,\u001b[0m \u001b[0msarima_forecast\u001b[0m\u001b[0;34m,\u001b[0m \u001b[0;34m\"SARIMA\"\u001b[0m\u001b[0;34m)\u001b[0m\u001b[0;34m\u001b[0m\u001b[0;34m\u001b[0m\u001b[0m\n",
      "\u001b[0;32m<ipython-input-20-b60b518dbab3>\u001b[0m in \u001b[0;36mevaluate_forecast\u001b[0;34m(actual, forecast, model_name)\u001b[0m\n\u001b[1;32m      1\u001b[0m \u001b[0;31m# Evaluate Models\u001b[0m\u001b[0;34m\u001b[0m\u001b[0;34m\u001b[0m\u001b[0m\n\u001b[1;32m      2\u001b[0m \u001b[0;32mdef\u001b[0m \u001b[0mevaluate_forecast\u001b[0m\u001b[0;34m(\u001b[0m\u001b[0mactual\u001b[0m\u001b[0;34m,\u001b[0m \u001b[0mforecast\u001b[0m\u001b[0;34m,\u001b[0m \u001b[0mmodel_name\u001b[0m\u001b[0;34m)\u001b[0m\u001b[0;34m:\u001b[0m\u001b[0;34m\u001b[0m\u001b[0;34m\u001b[0m\u001b[0m\n\u001b[0;32m----> 3\u001b[0;31m     \u001b[0mmae\u001b[0m \u001b[0;34m=\u001b[0m \u001b[0mmean_absolute_error\u001b[0m\u001b[0;34m(\u001b[0m\u001b[0mactual\u001b[0m\u001b[0;34m,\u001b[0m \u001b[0mforecast\u001b[0m\u001b[0;34m)\u001b[0m\u001b[0;34m\u001b[0m\u001b[0;34m\u001b[0m\u001b[0m\n\u001b[0m\u001b[1;32m      4\u001b[0m     \u001b[0mmse\u001b[0m \u001b[0;34m=\u001b[0m \u001b[0mmean_squared_error\u001b[0m\u001b[0;34m(\u001b[0m\u001b[0mactual\u001b[0m\u001b[0;34m,\u001b[0m \u001b[0mforecast\u001b[0m\u001b[0;34m)\u001b[0m\u001b[0;34m\u001b[0m\u001b[0;34m\u001b[0m\u001b[0m\n\u001b[1;32m      5\u001b[0m     \u001b[0mrmse\u001b[0m \u001b[0;34m=\u001b[0m \u001b[0mnp\u001b[0m\u001b[0;34m.\u001b[0m\u001b[0msqrt\u001b[0m\u001b[0;34m(\u001b[0m\u001b[0mmse\u001b[0m\u001b[0;34m)\u001b[0m\u001b[0;34m\u001b[0m\u001b[0;34m\u001b[0m\u001b[0m\n",
      "\u001b[0;32m/usr/local/lib/python3.10/dist-packages/sklearn/utils/_param_validation.py\u001b[0m in \u001b[0;36mwrapper\u001b[0;34m(*args, **kwargs)\u001b[0m\n\u001b[1;32m    211\u001b[0m                     )\n\u001b[1;32m    212\u001b[0m                 ):\n\u001b[0;32m--> 213\u001b[0;31m                     \u001b[0;32mreturn\u001b[0m \u001b[0mfunc\u001b[0m\u001b[0;34m(\u001b[0m\u001b[0;34m*\u001b[0m\u001b[0margs\u001b[0m\u001b[0;34m,\u001b[0m \u001b[0;34m**\u001b[0m\u001b[0mkwargs\u001b[0m\u001b[0;34m)\u001b[0m\u001b[0;34m\u001b[0m\u001b[0;34m\u001b[0m\u001b[0m\n\u001b[0m\u001b[1;32m    214\u001b[0m             \u001b[0;32mexcept\u001b[0m \u001b[0mInvalidParameterError\u001b[0m \u001b[0;32mas\u001b[0m \u001b[0me\u001b[0m\u001b[0;34m:\u001b[0m\u001b[0;34m\u001b[0m\u001b[0;34m\u001b[0m\u001b[0m\n\u001b[1;32m    215\u001b[0m                 \u001b[0;31m# When the function is just a wrapper around an estimator, we allow\u001b[0m\u001b[0;34m\u001b[0m\u001b[0;34m\u001b[0m\u001b[0m\n",
      "\u001b[0;32m/usr/local/lib/python3.10/dist-packages/sklearn/metrics/_regression.py\u001b[0m in \u001b[0;36mmean_absolute_error\u001b[0;34m(y_true, y_pred, sample_weight, multioutput)\u001b[0m\n\u001b[1;32m    214\u001b[0m     \u001b[0mnp\u001b[0m\u001b[0;34m.\u001b[0m\u001b[0mfloat64\u001b[0m\u001b[0;34m(\u001b[0m\u001b[0;36m0.85\u001b[0m\u001b[0;34m...\u001b[0m\u001b[0;34m)\u001b[0m\u001b[0;34m\u001b[0m\u001b[0;34m\u001b[0m\u001b[0m\n\u001b[1;32m    215\u001b[0m     \"\"\"\n\u001b[0;32m--> 216\u001b[0;31m     y_type, y_true, y_pred, multioutput = _check_reg_targets(\n\u001b[0m\u001b[1;32m    217\u001b[0m         \u001b[0my_true\u001b[0m\u001b[0;34m,\u001b[0m \u001b[0my_pred\u001b[0m\u001b[0;34m,\u001b[0m \u001b[0mmultioutput\u001b[0m\u001b[0;34m\u001b[0m\u001b[0;34m\u001b[0m\u001b[0m\n\u001b[1;32m    218\u001b[0m     )\n",
      "\u001b[0;32m/usr/local/lib/python3.10/dist-packages/sklearn/metrics/_regression.py\u001b[0m in \u001b[0;36m_check_reg_targets\u001b[0;34m(y_true, y_pred, multioutput, dtype, xp)\u001b[0m\n\u001b[1;32m    109\u001b[0m     \u001b[0mxp\u001b[0m\u001b[0;34m,\u001b[0m \u001b[0m_\u001b[0m \u001b[0;34m=\u001b[0m \u001b[0mget_namespace\u001b[0m\u001b[0;34m(\u001b[0m\u001b[0my_true\u001b[0m\u001b[0;34m,\u001b[0m \u001b[0my_pred\u001b[0m\u001b[0;34m,\u001b[0m \u001b[0mmultioutput\u001b[0m\u001b[0;34m,\u001b[0m \u001b[0mxp\u001b[0m\u001b[0;34m=\u001b[0m\u001b[0mxp\u001b[0m\u001b[0;34m)\u001b[0m\u001b[0;34m\u001b[0m\u001b[0;34m\u001b[0m\u001b[0m\n\u001b[1;32m    110\u001b[0m \u001b[0;34m\u001b[0m\u001b[0m\n\u001b[0;32m--> 111\u001b[0;31m     \u001b[0mcheck_consistent_length\u001b[0m\u001b[0;34m(\u001b[0m\u001b[0my_true\u001b[0m\u001b[0;34m,\u001b[0m \u001b[0my_pred\u001b[0m\u001b[0;34m)\u001b[0m\u001b[0;34m\u001b[0m\u001b[0;34m\u001b[0m\u001b[0m\n\u001b[0m\u001b[1;32m    112\u001b[0m     \u001b[0my_true\u001b[0m \u001b[0;34m=\u001b[0m \u001b[0mcheck_array\u001b[0m\u001b[0;34m(\u001b[0m\u001b[0my_true\u001b[0m\u001b[0;34m,\u001b[0m \u001b[0mensure_2d\u001b[0m\u001b[0;34m=\u001b[0m\u001b[0;32mFalse\u001b[0m\u001b[0;34m,\u001b[0m \u001b[0mdtype\u001b[0m\u001b[0;34m=\u001b[0m\u001b[0mdtype\u001b[0m\u001b[0;34m)\u001b[0m\u001b[0;34m\u001b[0m\u001b[0;34m\u001b[0m\u001b[0m\n\u001b[1;32m    113\u001b[0m     \u001b[0my_pred\u001b[0m \u001b[0;34m=\u001b[0m \u001b[0mcheck_array\u001b[0m\u001b[0;34m(\u001b[0m\u001b[0my_pred\u001b[0m\u001b[0;34m,\u001b[0m \u001b[0mensure_2d\u001b[0m\u001b[0;34m=\u001b[0m\u001b[0;32mFalse\u001b[0m\u001b[0;34m,\u001b[0m \u001b[0mdtype\u001b[0m\u001b[0;34m=\u001b[0m\u001b[0mdtype\u001b[0m\u001b[0;34m)\u001b[0m\u001b[0;34m\u001b[0m\u001b[0;34m\u001b[0m\u001b[0m\n",
      "\u001b[0;32m/usr/local/lib/python3.10/dist-packages/sklearn/utils/validation.py\u001b[0m in \u001b[0;36mcheck_consistent_length\u001b[0;34m(*arrays)\u001b[0m\n\u001b[1;32m    455\u001b[0m     \u001b[0muniques\u001b[0m \u001b[0;34m=\u001b[0m \u001b[0mnp\u001b[0m\u001b[0;34m.\u001b[0m\u001b[0munique\u001b[0m\u001b[0;34m(\u001b[0m\u001b[0mlengths\u001b[0m\u001b[0;34m)\u001b[0m\u001b[0;34m\u001b[0m\u001b[0;34m\u001b[0m\u001b[0m\n\u001b[1;32m    456\u001b[0m     \u001b[0;32mif\u001b[0m \u001b[0mlen\u001b[0m\u001b[0;34m(\u001b[0m\u001b[0muniques\u001b[0m\u001b[0;34m)\u001b[0m \u001b[0;34m>\u001b[0m \u001b[0;36m1\u001b[0m\u001b[0;34m:\u001b[0m\u001b[0;34m\u001b[0m\u001b[0;34m\u001b[0m\u001b[0m\n\u001b[0;32m--> 457\u001b[0;31m         raise ValueError(\n\u001b[0m\u001b[1;32m    458\u001b[0m             \u001b[0;34m\"Found input variables with inconsistent numbers of samples: %r\"\u001b[0m\u001b[0;34m\u001b[0m\u001b[0;34m\u001b[0m\u001b[0m\n\u001b[1;32m    459\u001b[0m             \u001b[0;34m%\u001b[0m \u001b[0;34m[\u001b[0m\u001b[0mint\u001b[0m\u001b[0;34m(\u001b[0m\u001b[0ml\u001b[0m\u001b[0;34m)\u001b[0m \u001b[0;32mfor\u001b[0m \u001b[0ml\u001b[0m \u001b[0;32min\u001b[0m \u001b[0mlengths\u001b[0m\u001b[0;34m]\u001b[0m\u001b[0;34m\u001b[0m\u001b[0;34m\u001b[0m\u001b[0m\n",
      "\u001b[0;31mValueError\u001b[0m: Found input variables with inconsistent numbers of samples: [23664, 48]"
     ]
    }
   ],
   "source": [
    "# Evaluate ARIMA\n",
    "evaluate_forecast(test_data.values, arima_forecast, \"ARIMA\")\n",
    "\n",
    "# Evaluate SARIMA\n",
    "evaluate_forecast(test_data.values, sarima_forecast, \"SARIMA\")"
   ]
  },
  {
   "cell_type": "markdown",
   "metadata": {
    "id": "vy5OOFdc0Z32"
   },
   "source": []
  },
  {
   "cell_type": "code",
   "execution_count": null,
   "metadata": {
    "colab": {
     "base_uri": "https://localhost:8080/",
     "height": 193
    },
    "id": "vKM-M-ZToSv-",
    "outputId": "17b732cc-fdd5-495a-93b0-afb000341293"
   },
   "outputs": [
    {
     "ename": "NameError",
     "evalue": "name 'balancing_df' is not defined",
     "output_type": "error",
     "traceback": [
      "\u001b[0;31m---------------------------------------------------------------------------\u001b[0m",
      "\u001b[0;31mNameError\u001b[0m                                 Traceback (most recent call last)",
      "\u001b[0;32m<ipython-input-1-52fe969f2bbb>\u001b[0m in \u001b[0;36m<cell line: 1>\u001b[0;34m()\u001b[0m\n\u001b[0;32m----> 1\u001b[0;31m \u001b[0mbalancing_df\u001b[0m\u001b[0;34m[\u001b[0m\u001b[0;34m'NIV Outturn'\u001b[0m\u001b[0;34m]\u001b[0m \u001b[0;34m=\u001b[0m \u001b[0mbalancing_df\u001b[0m\u001b[0;34m[\u001b[0m\u001b[0;34m'NIV Outturn'\u001b[0m\u001b[0;34m]\u001b[0m\u001b[0;34m.\u001b[0m\u001b[0mfillna\u001b[0m\u001b[0;34m(\u001b[0m\u001b[0mmethod\u001b[0m\u001b[0;34m=\u001b[0m\u001b[0;34m'ffill'\u001b[0m\u001b[0;34m)\u001b[0m\u001b[0;34m\u001b[0m\u001b[0;34m\u001b[0m\u001b[0m\n\u001b[0m\u001b[1;32m      2\u001b[0m \u001b[0mniv_arima_model\u001b[0m \u001b[0;34m=\u001b[0m \u001b[0mARIMA\u001b[0m\u001b[0;34m(\u001b[0m\u001b[0mbalancing_df\u001b[0m\u001b[0;34m[\u001b[0m\u001b[0;34m'NIV Outturn'\u001b[0m\u001b[0;34m]\u001b[0m\u001b[0;34m,\u001b[0m \u001b[0morder\u001b[0m\u001b[0;34m=\u001b[0m\u001b[0;34m(\u001b[0m\u001b[0;36m1\u001b[0m\u001b[0;34m,\u001b[0m \u001b[0;36m1\u001b[0m\u001b[0;34m,\u001b[0m \u001b[0;36m1\u001b[0m\u001b[0;34m)\u001b[0m\u001b[0;34m)\u001b[0m\u001b[0;34m\u001b[0m\u001b[0;34m\u001b[0m\u001b[0m\n\u001b[1;32m      3\u001b[0m \u001b[0mniv_arima_fit\u001b[0m \u001b[0;34m=\u001b[0m \u001b[0mniv_arima_model\u001b[0m\u001b[0;34m.\u001b[0m\u001b[0mfit\u001b[0m\u001b[0;34m(\u001b[0m\u001b[0;34m)\u001b[0m\u001b[0;34m\u001b[0m\u001b[0;34m\u001b[0m\u001b[0m\n\u001b[1;32m      4\u001b[0m \u001b[0mniv_forecast\u001b[0m \u001b[0;34m=\u001b[0m \u001b[0mniv_arima_fit\u001b[0m\u001b[0;34m.\u001b[0m\u001b[0mforecast\u001b[0m\u001b[0;34m(\u001b[0m\u001b[0msteps\u001b[0m\u001b[0;34m=\u001b[0m\u001b[0;36m48\u001b[0m\u001b[0;34m)\u001b[0m\u001b[0;34m\u001b[0m\u001b[0;34m\u001b[0m\u001b[0m\n",
      "\u001b[0;31mNameError\u001b[0m: name 'balancing_df' is not defined"
     ]
    }
   ],
   "source": [
    "balancing_df['NIV Outturn'] = balancing_df['NIV Outturn'].fillna(method='ffill')\n",
    "niv_arima_model = ARIMA(balancing_df['NIV Outturn'], order=(1, 1, 1))\n",
    "niv_arima_fit = niv_arima_model.fit()\n",
    "niv_forecast = niv_arima_fit.forecast(steps=48)"
   ]
  }
 ],
 "metadata": {
  "colab": {
   "provenance": []
  },
  "kernelspec": {
   "display_name": "Python 3",
   "name": "python3"
  },
  "language_info": {
   "name": "python"
  }
 },
 "nbformat": 4,
 "nbformat_minor": 0
}
