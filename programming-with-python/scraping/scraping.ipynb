{
 "cells": [
  {
   "cell_type": "code",
   "execution_count": 52,
   "metadata": {},
   "outputs": [],
   "source": [
    "from bs4 import BeautifulSoup"
   ]
  },
  {
   "cell_type": "code",
   "execution_count": 48,
   "metadata": {},
   "outputs": [],
   "source": [
    "idealista = open(\"idealista.html\").read()"
   ]
  },
  {
   "cell_type": "code",
   "execution_count": 53,
   "metadata": {},
   "outputs": [],
   "source": [
    "soup = BeautifulSoup(idealista, \"html.parser\")"
   ]
  },
  {
   "cell_type": "code",
   "execution_count": 78,
   "metadata": {},
   "outputs": [
    {
     "name": "stdout",
     "output_type": "stream",
     "text": [
      "Piso en El Viso, Madrid\n",
      "1.820.000€\n",
      "Chalet pareado en calle del Oria, 16, El Viso, Madrid\n",
      "3.200.000€\n",
      "Piso en calle de Santiago Bernabéu, El Viso, Madrid\n",
      "1.550.000€\n",
      "Piso en El Viso, Madrid\n",
      "1.300.000€\n",
      "Piso en calle de Francisco Silvela, El Viso, Madrid\n",
      "785.000€\n",
      "Piso en El Viso, Madrid\n",
      "1.030.000€\n",
      "Piso en calle del Segre, El Viso, Madrid\n",
      "1.850.000€\n",
      "Piso en El Viso, Madrid\n",
      "1.820.000€\n",
      "Casa o chalet independiente en calle del Maestro Ripoll, El Viso, Madrid\n",
      "4.300.000€\n",
      "Piso en avenida de Concha Espina, El Viso, Madrid\n",
      "1.250.000€\n",
      "Casa o chalet independiente en El Viso, Madrid\n",
      "6.600.000€\n",
      "Piso en calle de Rodríguez Marín, El Viso, Madrid\n",
      "1.680.000€\n",
      "Piso en El Viso, Madrid\n",
      "2.300.000€\n",
      "Piso en plaza de los Sagrados Corazones, El Viso, Madrid\n",
      "1.800.000€\n",
      "Piso en El Viso, Madrid\n",
      "3.300.000€\n",
      "Piso en El Viso, Madrid\n",
      "2.300.000€\n",
      "Chalet pareado en El Viso, Madrid\n",
      "3.200.000€\n",
      "Piso en paseo de la Castellana, El Viso, Madrid\n",
      "749.000€\n",
      "Piso en El Viso, Madrid\n",
      "2.100.000€\n",
      "Piso en El Viso, Madrid\n",
      "1.375.000€\n",
      "Casa o chalet independiente en El Viso, Madrid\n",
      "3.200.000€\n",
      "Piso en El Viso, Madrid\n",
      "3.500.000€\n",
      "Piso en El Viso, Madrid\n",
      "1.900.000€\n",
      "Piso en El Viso, Madrid\n",
      "1.650.000€\n",
      "Piso en El Viso, Madrid\n",
      "795.000€\n",
      "Piso en El Viso, Madrid\n",
      "1.800.000€\n",
      "Piso en calle del Segre, El Viso, Madrid\n",
      "1.850.000€\n",
      "Piso en calle de Santo Domingo de Silos, El Viso, Madrid\n",
      "1.600.000€\n",
      "Piso en El Viso, Madrid\n",
      "2.650.000€\n",
      "Ático en paseo de La Habana, El Viso, Madrid\n",
      "1.530.000€\n"
     ]
    }
   ],
   "source": [
    "listings = {}\n",
    "for item in soup.find_all(\"div\", class_=\"item-info-container\"):\n",
    "    title = item.find(\"a\", class_=\"item-link\").text.strip()\n",
    "    print(title)\n",
    "    price = item.find(\"span\", class_=\"item-price\").text.strip()\n",
    "    print(price)\n",
    "    details = []\n",
    "    for detail in item.find_all(\"span\", class_=\"item-detail\"):\n",
    "        details.append(detail.text.strip())\n",
    "    listings[title] = (title, price, details)"
   ]
  },
  {
   "cell_type": "code",
   "execution_count": 80,
   "metadata": {},
   "outputs": [
    {
     "name": "stdout",
     "output_type": "stream",
     "text": [
      "Piso en El Viso, Madrid ('Piso en El Viso, Madrid', '2.650.000€', ['5 hab.', '366 m²', 'Planta 1ª exterior con ascensor'])\n",
      "Chalet pareado en calle del Oria, 16, El Viso, Madrid ('Chalet pareado en calle del Oria, 16, El Viso, Madrid', '3.200.000€', ['6 hab.', '308 m²'])\n",
      "Piso en calle de Santiago Bernabéu, El Viso, Madrid ('Piso en calle de Santiago Bernabéu, El Viso, Madrid', '1.550.000€', ['4 hab.', '230 m²', 'Planta 3ª exterior con ascensor'])\n",
      "Piso en calle de Francisco Silvela, El Viso, Madrid ('Piso en calle de Francisco Silvela, El Viso, Madrid', '785.000€', ['3 hab.', '120 m²', 'exterior con ascensor'])\n",
      "Piso en calle del Segre, El Viso, Madrid ('Piso en calle del Segre, El Viso, Madrid', '1.850.000€', ['4 hab.', '283 m²', 'Planta 2ª exterior con ascensor'])\n",
      "Casa o chalet independiente en calle del Maestro Ripoll, El Viso, Madrid ('Casa o chalet independiente en calle del Maestro Ripoll, El Viso, Madrid', '4.300.000€', ['5 hab.', '370 m²'])\n",
      "Piso en avenida de Concha Espina, El Viso, Madrid ('Piso en avenida de Concha Espina, El Viso, Madrid', '1.250.000€', ['4 hab.', '194 m²', 'Planta 3ª exterior con ascensor'])\n",
      "Casa o chalet independiente en El Viso, Madrid ('Casa o chalet independiente en El Viso, Madrid', '3.200.000€', ['6 hab.', '310 m²'])\n",
      "Piso en calle de Rodríguez Marín, El Viso, Madrid ('Piso en calle de Rodríguez Marín, El Viso, Madrid', '1.680.000€', ['3 hab.', '197 m²', 'exterior con ascensor'])\n",
      "Piso en plaza de los Sagrados Corazones, El Viso, Madrid ('Piso en plaza de los Sagrados Corazones, El Viso, Madrid', '1.800.000€', ['5 hab.', '268 m²', 'Planta 2ª exterior con ascensor'])\n",
      "Chalet pareado en El Viso, Madrid ('Chalet pareado en El Viso, Madrid', '3.200.000€', ['7 hab.', '410 m²'])\n",
      "Piso en paseo de la Castellana, El Viso, Madrid ('Piso en paseo de la Castellana, El Viso, Madrid', '749.000€', ['3 hab.', '127 m²', 'exterior con ascensor'])\n",
      "Piso en calle de Santo Domingo de Silos, El Viso, Madrid ('Piso en calle de Santo Domingo de Silos, El Viso, Madrid', '1.600.000€', ['4 hab.', '235 m²', 'Planta 6ª exterior con ascensor'])\n",
      "Ático en paseo de La Habana, El Viso, Madrid ('Ático en paseo de La Habana, El Viso, Madrid', '1.530.000€', ['3 hab.', '180 m²', 'Planta 7ª exterior con ascensor'])\n"
     ]
    }
   ],
   "source": [
    "\n",
    "for title, info in listings.items():\n",
    "    print(title, info)"
   ]
  }
 ],
 "metadata": {
  "kernelspec": {
   "display_name": ".venv",
   "language": "python",
   "name": "python3"
  },
  "language_info": {
   "codemirror_mode": {
    "name": "ipython",
    "version": 3
   },
   "file_extension": ".py",
   "mimetype": "text/x-python",
   "name": "python",
   "nbconvert_exporter": "python",
   "pygments_lexer": "ipython3",
   "version": "3.13.0"
  }
 },
 "nbformat": 4,
 "nbformat_minor": 2
}
